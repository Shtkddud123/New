{
 "metadata": {
  "name": "",
  "signature": "sha256:dff36dd71f6871d3bc628d03d6dfd6e3c9e0933c2fd11fd9ea89f1253656f0af"
 },
 "nbformat": 3,
 "nbformat_minor": 0,
 "worksheets": []
}